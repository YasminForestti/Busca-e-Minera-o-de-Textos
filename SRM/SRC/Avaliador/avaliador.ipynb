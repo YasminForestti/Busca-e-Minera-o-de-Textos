{
 "cells": [
  {
   "cell_type": "code",
   "execution_count": 1,
   "metadata": {},
   "outputs": [],
   "source": [
    "import os\n",
    "import ast\n",
    "import logging\n",
    "import numpy as np\n",
    "import matplotlib.pyplot as plt"
   ]
  },
  {
   "cell_type": "code",
   "execution_count": null,
   "metadata": {},
   "outputs": [],
   "source": [
    "def Precisao(stem, d, k):\n",
    "    if stem:\n",
    "        results_path = \"SRM/RESULT/resultados-stemmer.csv\"\n",
    "    else:\n",
    "        results_path = \"SRM/RESULT/resultados-nostemmer.csv\"\n",
    "    \n",
    "    with open(results_path) as resultados:\n",
    "        next(resultados)\n",
    "        precision = np.zeros(100)\n",
    "\n",
    "        for line in resultados:\n",
    "            line = line.rstrip()\n",
    "            query_num, results_list = line.split(\";\")\n",
    "            query_num = int(100)\n",
    "            results_list = ast.literal_eval(results_list)\n",
    "            \n",
    "            if results_list[0] >= k:\n",
    "                continue\n",
    "\n",
    "            if results_list[1] in d[query_num][0]:\n",
    "                precision[query_num - 1] += 1\n",
    "        \n",
    "    precision /= k\n",
    "    precision = np.delete(precision, missing_query)\n",
    "    return precision"
   ]
  },
  {
   "cell_type": "code",
   "execution_count": 2,
   "metadata": {},
   "outputs": [],
   "source": [
    "def graphing_function(x, y, xlabel, ylabel, title):\n",
    "    plt.plot(x, y, \"ro\", markersize=3)\n",
    "    plt.title(title)\n",
    "    plt.xlabel(xlabel)\n",
    "    plt.ylabel(ylabel)\n",
    "    plt.show()"
   ]
  },
  {
   "cell_type": "code",
   "execution_count": null,
   "metadata": {},
   "outputs": [],
   "source": []
  }
 ],
 "metadata": {
  "kernelspec": {
   "display_name": "Python 3",
   "language": "python",
   "name": "python3"
  },
  "language_info": {
   "codemirror_mode": {
    "name": "ipython",
    "version": 3
   },
   "file_extension": ".py",
   "mimetype": "text/x-python",
   "name": "python",
   "nbconvert_exporter": "python",
   "pygments_lexer": "ipython3",
   "version": "3.9.6"
  },
  "orig_nbformat": 4
 },
 "nbformat": 4,
 "nbformat_minor": 2
}
